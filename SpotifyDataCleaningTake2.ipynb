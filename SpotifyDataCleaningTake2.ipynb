{
 "cells": [
  {
   "cell_type": "code",
   "execution_count": 1,
   "metadata": {
    "scrolled": true
   },
   "outputs": [
    {
     "name": "stderr",
     "output_type": "stream",
     "text": [
      "/home/jcroderman/.pyenv/versions/3.7.5/lib/python3.7/site-packages/pandas/compat/__init__.py:120: UserWarning: Could not import the lzma module. Your installed Python is incomplete. Attempting to use lzma compression will result in a RuntimeError.\n",
      "  warnings.warn(msg)\n"
     ]
    },
    {
     "name": "stdout",
     "output_type": "stream",
     "text": [
      "(32398, 4)\n"
     ]
    },
    {
     "data": {
      "text/html": [
       "<div>\n",
       "<style scoped>\n",
       "    .dataframe tbody tr th:only-of-type {\n",
       "        vertical-align: middle;\n",
       "    }\n",
       "\n",
       "    .dataframe tbody tr th {\n",
       "        vertical-align: top;\n",
       "    }\n",
       "\n",
       "    .dataframe thead th {\n",
       "        text-align: right;\n",
       "    }\n",
       "</style>\n",
       "<table border=\"1\" class=\"dataframe\">\n",
       "  <thead>\n",
       "    <tr style=\"text-align: right;\">\n",
       "      <th></th>\n",
       "      <th>endTime</th>\n",
       "      <th>artistName</th>\n",
       "      <th>trackName</th>\n",
       "      <th>msPlayed</th>\n",
       "    </tr>\n",
       "  </thead>\n",
       "  <tbody>\n",
       "    <tr>\n",
       "      <th>0</th>\n",
       "      <td>2020-07-02 17:14</td>\n",
       "      <td>Radio Rental</td>\n",
       "      <td>Episode 06</td>\n",
       "      <td>3197470</td>\n",
       "    </tr>\n",
       "    <tr>\n",
       "      <th>1</th>\n",
       "      <td>2020-10-15 23:59</td>\n",
       "      <td>Dawes</td>\n",
       "      <td>From the Right Angle</td>\n",
       "      <td>105984</td>\n",
       "    </tr>\n",
       "    <tr>\n",
       "      <th>2</th>\n",
       "      <td>2020-10-16 02:02</td>\n",
       "      <td>The Arcadian Wild</td>\n",
       "      <td>Letters from the Atlantic</td>\n",
       "      <td>295437</td>\n",
       "    </tr>\n",
       "    <tr>\n",
       "      <th>3</th>\n",
       "      <td>2020-10-16 02:02</td>\n",
       "      <td>The Arcadian Wild</td>\n",
       "      <td>Roots</td>\n",
       "      <td>0</td>\n",
       "    </tr>\n",
       "    <tr>\n",
       "      <th>4</th>\n",
       "      <td>2020-10-16 02:02</td>\n",
       "      <td>The Arcadian Wild</td>\n",
       "      <td>Blue Eyed Girl</td>\n",
       "      <td>162</td>\n",
       "    </tr>\n",
       "  </tbody>\n",
       "</table>\n",
       "</div>"
      ],
      "text/plain": [
       "            endTime         artistName                  trackName  msPlayed\n",
       "0  2020-07-02 17:14       Radio Rental                 Episode 06   3197470\n",
       "1  2020-10-15 23:59              Dawes       From the Right Angle    105984\n",
       "2  2020-10-16 02:02  The Arcadian Wild  Letters from the Atlantic    295437\n",
       "3  2020-10-16 02:02  The Arcadian Wild                      Roots         0\n",
       "4  2020-10-16 02:02  The Arcadian Wild             Blue Eyed Girl       162"
      ]
     },
     "execution_count": 1,
     "metadata": {},
     "output_type": "execute_result"
    }
   ],
   "source": [
    "from os import path\n",
    "import numpy as np\n",
    "import pandas as pd\n",
    "from IPython.display import display\n",
    "\n",
    "if not path.exists(\"data/raw/StreamingHistory.csv\"):\n",
    "    streaming_history_0_df = pd.read_json(\"data/raw/StreamingHistory0.json\")\n",
    "    streaming_history_1_df = pd.read_json(\"data/raw/StreamingHistory1.json\")\n",
    "    streaming_history_2_df = pd.read_json(\"data/raw/StreamingHistory2.json\")\n",
    "    streaming_history_3_df = pd.read_json(\"data/raw/StreamingHistory3.json\")\n",
    "\n",
    "    stream_history_df = pd.concat([streaming_history_0_df, streaming_history_1_df, streaming_history_2_df, streaming_history_3_df])\n",
    "    stream_history_df.to_csv(\"data/raw/StreamingHistory.csv\")\n",
    "else:\n",
    "    stream_history_df = pd.read_csv(\"data/raw/StreamingHistory.csv\")\n",
    "    stream_history_df.drop(stream_history_df.columns[0], axis=1, inplace=True)\n",
    "\n",
    "print(stream_history_df.shape)\n",
    "stream_history_df.head()"
   ]
  },
  {
   "cell_type": "markdown",
   "metadata": {},
   "source": [
    "## Cleaning Up the Data\n",
    "\n",
    "First, fix the date data"
   ]
  },
  {
   "cell_type": "code",
   "execution_count": 2,
   "metadata": {
    "scrolled": true
   },
   "outputs": [
    {
     "data": {
      "text/plain": [
       "count                            32398\n",
       "mean     2021-05-04 22:04:09.046854656\n",
       "min                2020-07-02 11:14:00\n",
       "25%                2021-01-14 14:17:45\n",
       "50%                2021-04-19 10:01:30\n",
       "75%                2021-08-23 17:53:30\n",
       "max                2022-01-05 17:59:00\n",
       "Name: date, dtype: object"
      ]
     },
     "execution_count": 2,
     "metadata": {},
     "output_type": "execute_result"
    }
   ],
   "source": [
    "from datetime import timedelta\n",
    "\n",
    "stream_history_df[\"date\"] = pd.to_datetime(stream_history_df[\"endTime\"], format=\"%Y-%m-%d\")\n",
    "stream_history_df[\"date\"] = stream_history_df[\"date\"].apply(lambda date: date - timedelta(hours = 6)) # Put it in CST\n",
    "stream_history_df.drop(\"endTime\", axis=1, inplace=True)\n",
    "stream_history_df[\"date\"].describe(datetime_is_numeric=True)"
   ]
  },
  {
   "cell_type": "code",
   "execution_count": 3,
   "metadata": {},
   "outputs": [],
   "source": [
    "stream_history_df = stream_history_df.rename({\n",
    "    \"artistName\": \"artist_name\",\n",
    "    \"trackName\": \"track_name\",\n",
    "    \"msPlayed\": \"ms_played\"\n",
    "}, axis=1)"
   ]
  },
  {
   "cell_type": "markdown",
   "metadata": {},
   "source": [
    "Just for simplicity sake, I'm only going to focus on music listened to in 2021"
   ]
  },
  {
   "cell_type": "code",
   "execution_count": 4,
   "metadata": {
    "scrolled": true
   },
   "outputs": [
    {
     "data": {
      "text/plain": [
       "count                            25637\n",
       "mean     2021-06-12 23:11:57.996645376\n",
       "min                2021-01-01 00:01:00\n",
       "25%                2021-03-08 13:21:00\n",
       "50%                2021-05-28 12:55:00\n",
       "75%                2021-09-15 09:44:00\n",
       "max                2021-12-31 17:31:00\n",
       "Name: date, dtype: object"
      ]
     },
     "execution_count": 4,
     "metadata": {},
     "output_type": "execute_result"
    }
   ],
   "source": [
    "stream_history_df = stream_history_df[~(stream_history_df['date'] < '2021-01-01') & ~(stream_history_df['date'] >= '2022-01-01')].reset_index(drop=True)\n",
    "stream_history_df.date.describe(datetime_is_numeric=True)"
   ]
  },
  {
   "cell_type": "markdown",
   "metadata": {},
   "source": [
    "Before I get rid of anything, let's take a look at how long I listened to music or podcasts this year!"
   ]
  },
  {
   "cell_type": "code",
   "execution_count": 5,
   "metadata": {},
   "outputs": [
    {
     "name": "stdout",
     "output_type": "stream",
     "text": [
      "Days I have listened to Spotify: 62.713 days\n"
     ]
    }
   ],
   "source": [
    "time_streamed_ms = sum(stream_history_df.ms_played)\n",
    "time_streamed_sec = time_streamed_ms / 1000\n",
    "time_streamed_min = time_streamed_sec / 60\n",
    "time_streamed_hour = time_streamed_min / 60\n",
    "time_streamed_day = time_streamed_hour / 24\n",
    "print(\"Days I have listened to Spotify: {:.3f} days\".format(time_streamed_day))"
   ]
  },
  {
   "cell_type": "markdown",
   "metadata": {},
   "source": [
    "## Consolidating Data\n",
    "\n",
    "We're about to make a helluva lot of calls to Spotify, so we'll want to consolidate the data to make as few calls as possible. To do this, we'll gather all nonunique tracks"
   ]
  },
  {
   "cell_type": "code",
   "execution_count": 6,
   "metadata": {
    "scrolled": true
   },
   "outputs": [
    {
     "name": "stdout",
     "output_type": "stream",
     "text": [
      "(6146, 2)\n"
     ]
    },
    {
     "data": {
      "text/html": [
       "<div>\n",
       "<style scoped>\n",
       "    .dataframe tbody tr th:only-of-type {\n",
       "        vertical-align: middle;\n",
       "    }\n",
       "\n",
       "    .dataframe tbody tr th {\n",
       "        vertical-align: top;\n",
       "    }\n",
       "\n",
       "    .dataframe thead th {\n",
       "        text-align: right;\n",
       "    }\n",
       "</style>\n",
       "<table border=\"1\" class=\"dataframe\">\n",
       "  <thead>\n",
       "    <tr style=\"text-align: right;\">\n",
       "      <th></th>\n",
       "      <th>track_name</th>\n",
       "      <th>artist_name</th>\n",
       "    </tr>\n",
       "  </thead>\n",
       "  <tbody>\n",
       "    <tr>\n",
       "      <th>0</th>\n",
       "      <td>Auld Lang Syne</td>\n",
       "      <td>Bing Crosby</td>\n",
       "    </tr>\n",
       "    <tr>\n",
       "      <th>1</th>\n",
       "      <td>Perfect Symphony (Ed Sheeran &amp; Andrea Bocelli)</td>\n",
       "      <td>Ed Sheeran</td>\n",
       "    </tr>\n",
       "    <tr>\n",
       "      <th>2</th>\n",
       "      <td>Honey Hold Me</td>\n",
       "      <td>Morningsiders</td>\n",
       "    </tr>\n",
       "    <tr>\n",
       "      <th>3</th>\n",
       "      <td>Only Home I've Ever Known</td>\n",
       "      <td>The California Honeydrops</td>\n",
       "    </tr>\n",
       "    <tr>\n",
       "      <th>4</th>\n",
       "      <td>Mind is a Mountain</td>\n",
       "      <td>The Get Ahead</td>\n",
       "    </tr>\n",
       "  </tbody>\n",
       "</table>\n",
       "</div>"
      ],
      "text/plain": [
       "                                       track_name                artist_name\n",
       "0                                  Auld Lang Syne                Bing Crosby\n",
       "1  Perfect Symphony (Ed Sheeran & Andrea Bocelli)                 Ed Sheeran\n",
       "2                                   Honey Hold Me              Morningsiders\n",
       "3                       Only Home I've Ever Known  The California Honeydrops\n",
       "4                              Mind is a Mountain              The Get Ahead"
      ]
     },
     "execution_count": 6,
     "metadata": {},
     "output_type": "execute_result"
    }
   ],
   "source": [
    "stream_history_consolidated_df = stream_history_df[[\"track_name\", \"artist_name\"]].drop_duplicates().reset_index(drop=True)\n",
    "print(stream_history_consolidated_df.shape)\n",
    "stream_history_consolidated_df.head()"
   ]
  },
  {
   "cell_type": "markdown",
   "metadata": {},
   "source": [
    "Now, it's imperative that I get the IDs for all of these tracks, because if I have the IDs I'll be able to do all sorts of stuff including gathering additional data on the tracks. So here's my algorithm for extracting the ID from the `track_name` and `artist_name`:\n",
    "\n",
    "1. Search for the track by calling Spotify's search API with the query `'track:\"{track_name}\" AND artist:\"{artist_name}\"'`. I'll only be searching for tracks, regardless of whether or not the thing being searched is a song or podcast episode\n",
    "2. Take the list of all potential matches, and filter them. Only accept the track if the track name from the API call is exactly the same as the given `track_name`, and if the `artist_name` is included in the artist names of the track from the API call\n",
    "3. If that list is nonempty, return the first result with type `track` (Note: this would be a good area to add an \"accurate\" option to the data. If the list is more than one element, have the user manually select which is correct [AKA throw error `Multiple matches found`])\n",
    "4. If the track list is empty, then it is probably a podcast episode\n",
    "5. Search for the episode by calling Spotify's search API with the query `'\"{track_name}\" AND \"{artist_name}\"'`, and only search for episodes\n",
    "6. Filter the list of potential matches by accepting only if the name of the episode returned exactly matches `name`\n",
    "7. If that list is empty, return `None`\n",
    "8. If that list has 1 element, return that element's id with type `episode`\n",
    "9. If that list has more than 1 element, we have to get the returned episodes' shows. To do that, we'll take the episode ids returned from Spotify's search endpoint and send it to Spotify's episode endpoint\n",
    "10. Take the results from that and filter if the returned show name is the same as `show_name`\n",
    "11. If that list is empty, return `None`\n",
    "12. If that list is nonempty, return the first result with type `episode` (Note: same comment as above with the \"accurate\" option)"
   ]
  },
  {
   "cell_type": "code",
   "execution_count": 7,
   "metadata": {},
   "outputs": [],
   "source": [
    "import requests\n",
    "import re\n",
    "import time\n",
    "from urllib.parse import urlencode\n",
    "token = open('token.txt', 'r').read().strip()\n",
    "\n",
    "base_url = \"https://api.spotify.com/v1/\"\n",
    "query_obj = {\"type\": \"track,episode\", \"market\": \"US\", \"limit\": 5}\n",
    "\n",
    "def get_correct_episode(name, show_name):\n",
    "    # We have a separate search call here without the `track:` and `artist:` search fields. That way we can search for podcasts\n",
    "    query_obj[\"q\"] = str.format('\"{}\" AND \"{}\"', re.sub(r\"['\\\"]\", \"\", name), re.sub(r\"['\\\"]\", \"\", show_name))\n",
    "    res = requests.get(base_url + \"search\" + \"?\" + urlencode(query_obj), headers={\n",
    "        \"Authorization\": \"Bearer \" + token\n",
    "    })\n",
    "    if res.status_code != 200:\n",
    "        return pd.Series([None, None, \"Search call failed, try again\"])\n",
    "    potential_episodes = list(filter(lambda x: x, res.json()[\"episodes\"][\"items\"]))\n",
    "\n",
    "    episodes = list(filter(lambda episode: episode[\"name\"] == name, potential_episodes))\n",
    "    if len(episodes) == 0:\n",
    "        return None\n",
    "    elif len(episodes) == 1:\n",
    "        return [\"episode\", episodes[0][\"id\"]]\n",
    "\n",
    "    # The episode object returned does not have show data, so let's get that show data\n",
    "    episode_ids = list(map(lambda episode: episode[\"id\"], episodes))\n",
    "    res = requests.get(base_url + \"episodes\" + \"?\" + urlencode({\"ids\": \",\".join(episode_ids)}), headers={\n",
    "        \"Authorization\": \"Bearer \" + token\n",
    "    })\n",
    "    if res.status_code != 200:\n",
    "        return \"Episodes call failed, try again\"\n",
    "    res_json = res.json()\n",
    "    episodes = list(filter(lambda episode: episode[\"show\"][\"name\"] == show_name, res_json[\"episodes\"]))\n",
    "    if len(episodes) > 0:\n",
    "        return [\"episode\", episodes[0][\"id\"]]\n",
    "\n",
    "    # Still nothing? Just return None then\n",
    "    return None\n",
    "\n",
    "def get_correct_track_or_episode(name, artist, potential_tracks):\n",
    "    # First check for tracks\n",
    "    tracks = list(filter(lambda track: track[\"name\"] == name and\n",
    "                                       any(list(map(lambda track_artist_obj: track_artist_obj[\"name\"] == artist, track[\"artists\"])))\n",
    "                         , potential_tracks))\n",
    "#     print(list(map(lambda track: track[\"name\"], potential_tracks)))\n",
    "    if len(tracks) > 0:\n",
    "        return [\"track\", tracks[0][\"id\"]]\n",
    "\n",
    "    # If no tracks follow the criteria, it may be a podcast episode\n",
    "    return get_correct_episode(name, artist)\n",
    "\n",
    "def get_spotify_data(track_name, artist_name):\n",
    "    # Adding the `track:` and `artist:` search fields here disallow us from finding podcasts, only tracks\n",
    "    query_obj[\"q\"] = str.format('track:\"{}\" AND artist:\"{}\"', re.sub(r\"['\\\"]\", \"\", track_name), re.sub(r\"['\\\"]\", \"\", artist_name))\n",
    "    res = requests.get(base_url + \"search\" + \"?\" + urlencode(query_obj), headers={\n",
    "        \"Authorization\": \"Bearer \" + token\n",
    "    })\n",
    "    if res.status_code != 200:\n",
    "        return pd.Series([None, None, \"Track search call failed, try again\"])\n",
    "    res_json = res.json()\n",
    "\n",
    "    data = get_correct_track_or_episode(track_name, artist_name, res_json[\"tracks\"][\"items\"])\n",
    "    if type(data) == str:\n",
    "        return pd.Series([None, None, data])\n",
    "    elif data == None:\n",
    "        return pd.Series([None, None, \"No data available\"])\n",
    "    else:\n",
    "        return pd.Series([data[0], data[1], None])"
   ]
  },
  {
   "cell_type": "markdown",
   "metadata": {},
   "source": [
    "Split the entries into buckets in case one fails we don't have to completely restart"
   ]
  },
  {
   "cell_type": "code",
   "execution_count": 8,
   "metadata": {
    "scrolled": true
   },
   "outputs": [
    {
     "name": "stdout",
     "output_type": "stream",
     "text": [
      "Already collected all data\n"
     ]
    }
   ],
   "source": [
    "import time\n",
    "from functools import reduce\n",
    "\n",
    "num_entries = stream_history_consolidated_df.shape[0]\n",
    "bucket_size = 1000\n",
    "num_buckets = num_entries // bucket_size + (1 if num_entries % bucket_size > 0 else 0)\n",
    "\n",
    "bucket_times = [0] * num_buckets\n",
    "stream_history_bucket_df = pd.DataFrame()\n",
    "for i in range(num_buckets):\n",
    "    if not path.exists(\"data/processed/history/StreamingHistoryWithData{}.csv\".format(i)):\n",
    "        time_start = time.time()\n",
    "        stream_history_bucket_df = stream_history_consolidated_df.loc[i * bucket_size:((i + 1) * bucket_size) - 1].copy()\n",
    "        stream_history_bucket_df[[\"type\", \"id\", \"error\"]] = stream_history_bucket_df.apply(lambda x: get_spotify_data(x[0], x[1]), axis=1)\n",
    "        time_elapsed = time.time() - time_start\n",
    "        bucket_times[i] = time_elapsed\n",
    "        print(\"Time elapsed for bucket {}: {:.3f} seconds\".format(i, time_elapsed))\n",
    "        stream_history_bucket_df.to_csv(\"data/processed/history/StreamingHistoryWithData{}.csv\".format(i))\n",
    "\n",
    "if stream_history_bucket_df.shape[0] == 0:\n",
    "    print(\"Already collected all data\")\n",
    "else:\n",
    "    # Last time I ran this it took 1944.531 seconds (32.409 minutes)\n",
    "    total_time_elapsed = reduce(lambda acc, time_elapsed: acc + time_elapsed, bucket_times, 0)\n",
    "    print(\"Total time elapsed: {:.3f} seconds ({:.3f} minutes)\".format(total_time_elapsed, total_time_elapsed / 60))\n",
    "    display(stream_history_bucket_df.tail())"
   ]
  },
  {
   "cell_type": "code",
   "execution_count": 9,
   "metadata": {},
   "outputs": [
    {
     "data": {
      "text/html": [
       "<div>\n",
       "<style scoped>\n",
       "    .dataframe tbody tr th:only-of-type {\n",
       "        vertical-align: middle;\n",
       "    }\n",
       "\n",
       "    .dataframe tbody tr th {\n",
       "        vertical-align: top;\n",
       "    }\n",
       "\n",
       "    .dataframe thead th {\n",
       "        text-align: right;\n",
       "    }\n",
       "</style>\n",
       "<table border=\"1\" class=\"dataframe\">\n",
       "  <thead>\n",
       "    <tr style=\"text-align: right;\">\n",
       "      <th></th>\n",
       "      <th>track_name</th>\n",
       "      <th>artist_name</th>\n",
       "      <th>type</th>\n",
       "      <th>id</th>\n",
       "      <th>error</th>\n",
       "    </tr>\n",
       "  </thead>\n",
       "  <tbody>\n",
       "    <tr>\n",
       "      <th>6141</th>\n",
       "      <td>Always Alright</td>\n",
       "      <td>Alabama Shakes</td>\n",
       "      <td>track</td>\n",
       "      <td>6ckUX8cgcqjoNGTd2A2Pvd</td>\n",
       "      <td>NaN</td>\n",
       "    </tr>\n",
       "    <tr>\n",
       "      <th>6142</th>\n",
       "      <td>#34 Annie</td>\n",
       "      <td>Heavyweight</td>\n",
       "      <td>episode</td>\n",
       "      <td>6in5V1yLC4AdjRTpBx0BeC</td>\n",
       "      <td>NaN</td>\n",
       "    </tr>\n",
       "    <tr>\n",
       "      <th>6143</th>\n",
       "      <td>Ai Weiwei On His Father's Exile — And Hopes Fo...</td>\n",
       "      <td>Consider This from NPR</td>\n",
       "      <td>episode</td>\n",
       "      <td>3gm88eARzA8gzVxL2mTrqO</td>\n",
       "      <td>NaN</td>\n",
       "    </tr>\n",
       "    <tr>\n",
       "      <th>6144</th>\n",
       "      <td>Spider-Mane Was on Crack One Day</td>\n",
       "      <td>MonoNeon</td>\n",
       "      <td>track</td>\n",
       "      <td>62bqqXjFxMbXsldDz2ZUXJ</td>\n",
       "      <td>NaN</td>\n",
       "    </tr>\n",
       "    <tr>\n",
       "      <th>6145</th>\n",
       "      <td>L'oiseau qui danse</td>\n",
       "      <td>Tennyson</td>\n",
       "      <td>track</td>\n",
       "      <td>3KKBT4UfWIP3fBMXn5Oprj</td>\n",
       "      <td>NaN</td>\n",
       "    </tr>\n",
       "  </tbody>\n",
       "</table>\n",
       "</div>"
      ],
      "text/plain": [
       "                                             track_name  \\\n",
       "6141                                     Always Alright   \n",
       "6142                                          #34 Annie   \n",
       "6143  Ai Weiwei On His Father's Exile — And Hopes Fo...   \n",
       "6144                   Spider-Mane Was on Crack One Day   \n",
       "6145                                 L'oiseau qui danse   \n",
       "\n",
       "                 artist_name     type                      id error  \n",
       "6141          Alabama Shakes    track  6ckUX8cgcqjoNGTd2A2Pvd   NaN  \n",
       "6142             Heavyweight  episode  6in5V1yLC4AdjRTpBx0BeC   NaN  \n",
       "6143  Consider This from NPR  episode  3gm88eARzA8gzVxL2mTrqO   NaN  \n",
       "6144                MonoNeon    track  62bqqXjFxMbXsldDz2ZUXJ   NaN  \n",
       "6145                Tennyson    track  3KKBT4UfWIP3fBMXn5Oprj   NaN  "
      ]
     },
     "execution_count": 9,
     "metadata": {},
     "output_type": "execute_result"
    }
   ],
   "source": [
    "if not path.exists(\"data/processed/StreamingHistoryWithData.csv\"):\n",
    "    stream_history_consolidated_df = pd.DataFrame()\n",
    "    for i in range(num_buckets):\n",
    "        temp_df = pd.read_csv(\"data/processed/history/StreamingHistoryWithData{}.csv\".format(i))\n",
    "        temp_df.drop(temp_df.columns[0], axis=1, inplace=True)\n",
    "        if stream_history_consolidated_df.shape[0] == 0:\n",
    "            stream_history_consolidated_df = temp_df\n",
    "        else:\n",
    "            stream_history_consolidated_df = stream_history_consolidated_df.append(temp_df)\n",
    "\n",
    "    stream_history_consolidated_df = stream_history_consolidated_df.reset_index(drop=True)\n",
    "    stream_history_consolidated_df.to_csv(\"data/processed/StreamingHistoryWithData.csv\")\n",
    "else:\n",
    "    stream_history_consolidated_df = pd.read_csv(\"data/processed/StreamingHistoryWithData.csv\")\n",
    "    stream_history_consolidated_df.drop(stream_history_consolidated_df.columns[0], axis=1, inplace=True)\n",
    "stream_history_consolidated_df.tail()"
   ]
  },
  {
   "cell_type": "markdown",
   "metadata": {},
   "source": [
    "### Cleaning the Data\n",
    "There are going to be a few entries that were missed by my algorithm. We'll take those and export them, so they can be manually fixed using the program I made for this, the [Spotify Data Fix Program](https://justinro-underscore.github.io/SpotifyDataFix/index.html)"
   ]
  },
  {
   "cell_type": "code",
   "execution_count": 10,
   "metadata": {
    "scrolled": false
   },
   "outputs": [
    {
     "name": "stdout",
     "output_type": "stream",
     "text": [
      "64\n"
     ]
    },
    {
     "data": {
      "text/html": [
       "<div>\n",
       "<style scoped>\n",
       "    .dataframe tbody tr th:only-of-type {\n",
       "        vertical-align: middle;\n",
       "    }\n",
       "\n",
       "    .dataframe tbody tr th {\n",
       "        vertical-align: top;\n",
       "    }\n",
       "\n",
       "    .dataframe thead th {\n",
       "        text-align: right;\n",
       "    }\n",
       "</style>\n",
       "<table border=\"1\" class=\"dataframe\">\n",
       "  <thead>\n",
       "    <tr style=\"text-align: right;\">\n",
       "      <th></th>\n",
       "      <th>index</th>\n",
       "      <th>track_name</th>\n",
       "      <th>artist_name</th>\n",
       "      <th>type</th>\n",
       "      <th>id</th>\n",
       "      <th>error</th>\n",
       "    </tr>\n",
       "  </thead>\n",
       "  <tbody>\n",
       "    <tr>\n",
       "      <th>0</th>\n",
       "      <td>0</td>\n",
       "      <td>Auld Lang Syne</td>\n",
       "      <td>Bing Crosby</td>\n",
       "      <td>NaN</td>\n",
       "      <td>NaN</td>\n",
       "      <td>No data available</td>\n",
       "    </tr>\n",
       "    <tr>\n",
       "      <th>1</th>\n",
       "      <td>98</td>\n",
       "      <td>Saturday, January 2, 2021</td>\n",
       "      <td>Up First</td>\n",
       "      <td>NaN</td>\n",
       "      <td>NaN</td>\n",
       "      <td>No data available</td>\n",
       "    </tr>\n",
       "    <tr>\n",
       "      <th>2</th>\n",
       "      <td>144</td>\n",
       "      <td>Monday, Jan. 4, 2021</td>\n",
       "      <td>Up First</td>\n",
       "      <td>NaN</td>\n",
       "      <td>NaN</td>\n",
       "      <td>No data available</td>\n",
       "    </tr>\n",
       "    <tr>\n",
       "      <th>3</th>\n",
       "      <td>246</td>\n",
       "      <td>Tuesday, January 5, 2021</td>\n",
       "      <td>Up First</td>\n",
       "      <td>NaN</td>\n",
       "      <td>NaN</td>\n",
       "      <td>No data available</td>\n",
       "    </tr>\n",
       "    <tr>\n",
       "      <th>4</th>\n",
       "      <td>340</td>\n",
       "      <td>Wednesday, Jan. 6, 2021</td>\n",
       "      <td>Up First</td>\n",
       "      <td>NaN</td>\n",
       "      <td>NaN</td>\n",
       "      <td>No data available</td>\n",
       "    </tr>\n",
       "  </tbody>\n",
       "</table>\n",
       "</div>"
      ],
      "text/plain": [
       "   index                 track_name  artist_name type   id              error\n",
       "0      0             Auld Lang Syne  Bing Crosby  NaN  NaN  No data available\n",
       "1     98  Saturday, January 2, 2021     Up First  NaN  NaN  No data available\n",
       "2    144       Monday, Jan. 4, 2021     Up First  NaN  NaN  No data available\n",
       "3    246   Tuesday, January 5, 2021     Up First  NaN  NaN  No data available\n",
       "4    340    Wednesday, Jan. 6, 2021     Up First  NaN  NaN  No data available"
      ]
     },
     "execution_count": 10,
     "metadata": {},
     "output_type": "execute_result"
    }
   ],
   "source": [
    "missing_data_df = stream_history_consolidated_df[stream_history_consolidated_df[\"id\"].isna()].reset_index()\n",
    "print(missing_data_df.shape[0])\n",
    "if not path.exists(\"data/processed/MissingStreamingHistoryWithId.csv\"):\n",
    "    missing_data_df.to_csv(\"data/processed/MissingStreamingHistoryWithId.csv\")\n",
    "missing_data_df.head()"
   ]
  },
  {
   "cell_type": "markdown",
   "metadata": {},
   "source": [
    "Now go! Fix the data! Return when it's done!"
   ]
  },
  {
   "cell_type": "code",
   "execution_count": 11,
   "metadata": {
    "scrolled": true
   },
   "outputs": [
    {
     "data": {
      "text/html": [
       "<div>\n",
       "<style scoped>\n",
       "    .dataframe tbody tr th:only-of-type {\n",
       "        vertical-align: middle;\n",
       "    }\n",
       "\n",
       "    .dataframe tbody tr th {\n",
       "        vertical-align: top;\n",
       "    }\n",
       "\n",
       "    .dataframe thead th {\n",
       "        text-align: right;\n",
       "    }\n",
       "</style>\n",
       "<table border=\"1\" class=\"dataframe\">\n",
       "  <thead>\n",
       "    <tr style=\"text-align: right;\">\n",
       "      <th></th>\n",
       "      <th>track_name</th>\n",
       "      <th>artist_name</th>\n",
       "      <th>type</th>\n",
       "      <th>id</th>\n",
       "      <th>delete</th>\n",
       "    </tr>\n",
       "    <tr>\n",
       "      <th>index</th>\n",
       "      <th></th>\n",
       "      <th></th>\n",
       "      <th></th>\n",
       "      <th></th>\n",
       "      <th></th>\n",
       "    </tr>\n",
       "  </thead>\n",
       "  <tbody>\n",
       "    <tr>\n",
       "      <th>0</th>\n",
       "      <td>Auld Lang Syne</td>\n",
       "      <td>Bing Crosby</td>\n",
       "      <td>NaN</td>\n",
       "      <td>NaN</td>\n",
       "      <td>True</td>\n",
       "    </tr>\n",
       "    <tr>\n",
       "      <th>98</th>\n",
       "      <td>Saturday, January 2, 2021</td>\n",
       "      <td>Up First</td>\n",
       "      <td>NaN</td>\n",
       "      <td>NaN</td>\n",
       "      <td>True</td>\n",
       "    </tr>\n",
       "    <tr>\n",
       "      <th>144</th>\n",
       "      <td>Monday, Jan. 4, 2021</td>\n",
       "      <td>Up First</td>\n",
       "      <td>NaN</td>\n",
       "      <td>NaN</td>\n",
       "      <td>True</td>\n",
       "    </tr>\n",
       "    <tr>\n",
       "      <th>246</th>\n",
       "      <td>Tuesday, January 5, 2021</td>\n",
       "      <td>Up First</td>\n",
       "      <td>NaN</td>\n",
       "      <td>NaN</td>\n",
       "      <td>True</td>\n",
       "    </tr>\n",
       "    <tr>\n",
       "      <th>340</th>\n",
       "      <td>Wednesday, Jan. 6, 2021</td>\n",
       "      <td>Up First</td>\n",
       "      <td>NaN</td>\n",
       "      <td>NaN</td>\n",
       "      <td>True</td>\n",
       "    </tr>\n",
       "  </tbody>\n",
       "</table>\n",
       "</div>"
      ],
      "text/plain": [
       "                      track_name  artist_name type   id  delete\n",
       "index                                                          \n",
       "0                 Auld Lang Syne  Bing Crosby  NaN  NaN    True\n",
       "98     Saturday, January 2, 2021     Up First  NaN  NaN    True\n",
       "144         Monday, Jan. 4, 2021     Up First  NaN  NaN    True\n",
       "246     Tuesday, January 5, 2021     Up First  NaN  NaN    True\n",
       "340      Wednesday, Jan. 6, 2021     Up First  NaN  NaN    True"
      ]
     },
     "metadata": {},
     "output_type": "display_data"
    }
   ],
   "source": [
    "if path.exists(\"data/processed/FixedDataForJustin.csv\"):\n",
    "    fixed_data_df = pd.read_csv(\"data/processed/FixedDataForJustin.csv\")\n",
    "    fixed_data_df.drop(fixed_data_df.columns[0], axis=1, inplace=True)\n",
    "    fixed_data_df.index = fixed_data_df[\"index\"]\n",
    "    fixed_data_df.drop(columns=[\"index\"], axis=1, inplace=True)\n",
    "    display(fixed_data_df.head())\n",
    "else:\n",
    "    print(\"Please run the Spotify Fix\")"
   ]
  },
  {
   "cell_type": "markdown",
   "metadata": {},
   "source": [
    "Let's go ahead and flag all of the tracks to delete"
   ]
  },
  {
   "cell_type": "code",
   "execution_count": 12,
   "metadata": {
    "scrolled": false
   },
   "outputs": [
    {
     "data": {
      "text/html": [
       "<div>\n",
       "<style scoped>\n",
       "    .dataframe tbody tr th:only-of-type {\n",
       "        vertical-align: middle;\n",
       "    }\n",
       "\n",
       "    .dataframe tbody tr th {\n",
       "        vertical-align: top;\n",
       "    }\n",
       "\n",
       "    .dataframe thead th {\n",
       "        text-align: right;\n",
       "    }\n",
       "</style>\n",
       "<table border=\"1\" class=\"dataframe\">\n",
       "  <thead>\n",
       "    <tr style=\"text-align: right;\">\n",
       "      <th></th>\n",
       "      <th>track_name</th>\n",
       "      <th>artist_name</th>\n",
       "      <th>type</th>\n",
       "      <th>id</th>\n",
       "      <th>error</th>\n",
       "      <th>delete</th>\n",
       "    </tr>\n",
       "  </thead>\n",
       "  <tbody>\n",
       "    <tr>\n",
       "      <th>0</th>\n",
       "      <td>Auld Lang Syne</td>\n",
       "      <td>Bing Crosby</td>\n",
       "      <td>NaN</td>\n",
       "      <td>NaN</td>\n",
       "      <td>No data available</td>\n",
       "      <td>True</td>\n",
       "    </tr>\n",
       "    <tr>\n",
       "      <th>1</th>\n",
       "      <td>Perfect Symphony (Ed Sheeran &amp; Andrea Bocelli)</td>\n",
       "      <td>Ed Sheeran</td>\n",
       "      <td>track</td>\n",
       "      <td>3zl7j5ua8mF4JDYuxrfo01</td>\n",
       "      <td>NaN</td>\n",
       "      <td>False</td>\n",
       "    </tr>\n",
       "    <tr>\n",
       "      <th>2</th>\n",
       "      <td>Honey Hold Me</td>\n",
       "      <td>Morningsiders</td>\n",
       "      <td>track</td>\n",
       "      <td>3XBDyDl3lwihZ8taFqMsJa</td>\n",
       "      <td>NaN</td>\n",
       "      <td>False</td>\n",
       "    </tr>\n",
       "    <tr>\n",
       "      <th>3</th>\n",
       "      <td>Only Home I've Ever Known</td>\n",
       "      <td>The California Honeydrops</td>\n",
       "      <td>track</td>\n",
       "      <td>49soGZl5uftZH9E7T20SDm</td>\n",
       "      <td>NaN</td>\n",
       "      <td>False</td>\n",
       "    </tr>\n",
       "    <tr>\n",
       "      <th>4</th>\n",
       "      <td>Mind is a Mountain</td>\n",
       "      <td>The Get Ahead</td>\n",
       "      <td>track</td>\n",
       "      <td>4upb9RfRf0hfW1rTU8bozj</td>\n",
       "      <td>NaN</td>\n",
       "      <td>False</td>\n",
       "    </tr>\n",
       "  </tbody>\n",
       "</table>\n",
       "</div>"
      ],
      "text/plain": [
       "                                       track_name                artist_name  \\\n",
       "0                                  Auld Lang Syne                Bing Crosby   \n",
       "1  Perfect Symphony (Ed Sheeran & Andrea Bocelli)                 Ed Sheeran   \n",
       "2                                   Honey Hold Me              Morningsiders   \n",
       "3                       Only Home I've Ever Known  The California Honeydrops   \n",
       "4                              Mind is a Mountain              The Get Ahead   \n",
       "\n",
       "    type                      id              error  delete  \n",
       "0    NaN                     NaN  No data available    True  \n",
       "1  track  3zl7j5ua8mF4JDYuxrfo01                NaN   False  \n",
       "2  track  3XBDyDl3lwihZ8taFqMsJa                NaN   False  \n",
       "3  track  49soGZl5uftZH9E7T20SDm                NaN   False  \n",
       "4  track  4upb9RfRf0hfW1rTU8bozj                NaN   False  "
      ]
     },
     "metadata": {},
     "output_type": "display_data"
    },
    {
     "data": {
      "text/html": [
       "<div>\n",
       "<style scoped>\n",
       "    .dataframe tbody tr th:only-of-type {\n",
       "        vertical-align: middle;\n",
       "    }\n",
       "\n",
       "    .dataframe tbody tr th {\n",
       "        vertical-align: top;\n",
       "    }\n",
       "\n",
       "    .dataframe thead th {\n",
       "        text-align: right;\n",
       "    }\n",
       "</style>\n",
       "<table border=\"1\" class=\"dataframe\">\n",
       "  <thead>\n",
       "    <tr style=\"text-align: right;\">\n",
       "      <th></th>\n",
       "      <th>track_name</th>\n",
       "      <th>artist_name</th>\n",
       "      <th>type</th>\n",
       "      <th>id</th>\n",
       "      <th>error</th>\n",
       "      <th>delete</th>\n",
       "    </tr>\n",
       "  </thead>\n",
       "  <tbody>\n",
       "    <tr>\n",
       "      <th>0</th>\n",
       "      <td>Auld Lang Syne</td>\n",
       "      <td>Bing Crosby</td>\n",
       "      <td>NaN</td>\n",
       "      <td>NaN</td>\n",
       "      <td>No data available</td>\n",
       "      <td>True</td>\n",
       "    </tr>\n",
       "    <tr>\n",
       "      <th>98</th>\n",
       "      <td>Saturday, January 2, 2021</td>\n",
       "      <td>Up First</td>\n",
       "      <td>NaN</td>\n",
       "      <td>NaN</td>\n",
       "      <td>No data available</td>\n",
       "      <td>True</td>\n",
       "    </tr>\n",
       "    <tr>\n",
       "      <th>144</th>\n",
       "      <td>Monday, Jan. 4, 2021</td>\n",
       "      <td>Up First</td>\n",
       "      <td>NaN</td>\n",
       "      <td>NaN</td>\n",
       "      <td>No data available</td>\n",
       "      <td>True</td>\n",
       "    </tr>\n",
       "    <tr>\n",
       "      <th>246</th>\n",
       "      <td>Tuesday, January 5, 2021</td>\n",
       "      <td>Up First</td>\n",
       "      <td>NaN</td>\n",
       "      <td>NaN</td>\n",
       "      <td>No data available</td>\n",
       "      <td>True</td>\n",
       "    </tr>\n",
       "    <tr>\n",
       "      <th>340</th>\n",
       "      <td>Wednesday, Jan. 6, 2021</td>\n",
       "      <td>Up First</td>\n",
       "      <td>NaN</td>\n",
       "      <td>NaN</td>\n",
       "      <td>No data available</td>\n",
       "      <td>True</td>\n",
       "    </tr>\n",
       "  </tbody>\n",
       "</table>\n",
       "</div>"
      ],
      "text/plain": [
       "                    track_name  artist_name type   id              error  \\\n",
       "0               Auld Lang Syne  Bing Crosby  NaN  NaN  No data available   \n",
       "98   Saturday, January 2, 2021     Up First  NaN  NaN  No data available   \n",
       "144       Monday, Jan. 4, 2021     Up First  NaN  NaN  No data available   \n",
       "246   Tuesday, January 5, 2021     Up First  NaN  NaN  No data available   \n",
       "340    Wednesday, Jan. 6, 2021     Up First  NaN  NaN  No data available   \n",
       "\n",
       "     delete  \n",
       "0      True  \n",
       "98     True  \n",
       "144    True  \n",
       "246    True  \n",
       "340    True  "
      ]
     },
     "execution_count": 12,
     "metadata": {},
     "output_type": "execute_result"
    }
   ],
   "source": [
    "stream_history_consolidated_df[\"delete\"] = False\n",
    "to_delete_df = fixed_data_df[fixed_data_df[\"delete\"]]\n",
    "stream_history_consolidated_df.loc[to_delete_df.index, \"delete\"] = True\n",
    "display(stream_history_consolidated_df.head())\n",
    "stream_history_consolidated_df.iloc[to_delete_df.index].head()"
   ]
  },
  {
   "cell_type": "code",
   "execution_count": 13,
   "metadata": {},
   "outputs": [
    {
     "data": {
      "text/html": [
       "<div>\n",
       "<style scoped>\n",
       "    .dataframe tbody tr th:only-of-type {\n",
       "        vertical-align: middle;\n",
       "    }\n",
       "\n",
       "    .dataframe tbody tr th {\n",
       "        vertical-align: top;\n",
       "    }\n",
       "\n",
       "    .dataframe thead th {\n",
       "        text-align: right;\n",
       "    }\n",
       "</style>\n",
       "<table border=\"1\" class=\"dataframe\">\n",
       "  <thead>\n",
       "    <tr style=\"text-align: right;\">\n",
       "      <th></th>\n",
       "    </tr>\n",
       "  </thead>\n",
       "  <tbody>\n",
       "  </tbody>\n",
       "</table>\n",
       "</div>"
      ],
      "text/plain": [
       "Empty DataFrame\n",
       "Columns: []\n",
       "Index: []"
      ]
     },
     "execution_count": 13,
     "metadata": {},
     "output_type": "execute_result"
    }
   ],
   "source": [
    "fixed_data_df = fixed_data_df[~fixed_data_df[\"delete\"]]\n",
    "fixed_data_df[[\"true_track_name\", \"true_artist_name\"]] = [None, None]\n",
    "duplicated_tracks = fixed_data_df[fixed_data_df.duplicated(\"id\", keep=False)]\n",
    "true_duplicate_names = duplicated_tracks.groupby(\"id\").apply(lambda x: x.iloc[0][[\"track_name\", \"artist_name\"]])\n",
    "true_duplicate_names.index.name = None\n",
    "true_duplicate_names"
   ]
  },
  {
   "cell_type": "markdown",
   "metadata": {},
   "source": [
    "Now we can set the `type` and `id` of all the missing tracks"
   ]
  },
  {
   "cell_type": "code",
   "execution_count": 14,
   "metadata": {
    "scrolled": false
   },
   "outputs": [
    {
     "data": {
      "text/html": [
       "<div>\n",
       "<style scoped>\n",
       "    .dataframe tbody tr th:only-of-type {\n",
       "        vertical-align: middle;\n",
       "    }\n",
       "\n",
       "    .dataframe tbody tr th {\n",
       "        vertical-align: top;\n",
       "    }\n",
       "\n",
       "    .dataframe thead th {\n",
       "        text-align: right;\n",
       "    }\n",
       "</style>\n",
       "<table border=\"1\" class=\"dataframe\">\n",
       "  <thead>\n",
       "    <tr style=\"text-align: right;\">\n",
       "      <th></th>\n",
       "      <th>track_name</th>\n",
       "      <th>artist_name</th>\n",
       "      <th>type</th>\n",
       "      <th>id</th>\n",
       "      <th>error</th>\n",
       "      <th>delete</th>\n",
       "    </tr>\n",
       "  </thead>\n",
       "  <tbody>\n",
       "    <tr>\n",
       "      <th>552</th>\n",
       "      <td>America The Beautiful</td>\n",
       "      <td>Ray Charles</td>\n",
       "      <td>track</td>\n",
       "      <td>5uPakSfc8x3RpbAGSpEHeB</td>\n",
       "      <td>No data available</td>\n",
       "      <td>False</td>\n",
       "    </tr>\n",
       "    <tr>\n",
       "      <th>818</th>\n",
       "      <td>Short Skirt / Long Jacket</td>\n",
       "      <td>Cake</td>\n",
       "      <td>track</td>\n",
       "      <td>3OOFEF20WqtsUPcRbPY3L7</td>\n",
       "      <td>No data available</td>\n",
       "      <td>False</td>\n",
       "    </tr>\n",
       "    <tr>\n",
       "      <th>937</th>\n",
       "      <td>Together</td>\n",
       "      <td>Matthew Halsall</td>\n",
       "      <td>track</td>\n",
       "      <td>6sJUbzyzNOrAt9dr3pkOPk</td>\n",
       "      <td>No data available</td>\n",
       "      <td>False</td>\n",
       "    </tr>\n",
       "    <tr>\n",
       "      <th>1077</th>\n",
       "      <td>Midnight Lorry</td>\n",
       "      <td>Dispatch</td>\n",
       "      <td>track</td>\n",
       "      <td>0OoODSk0hu4WWmi3yKbRP3</td>\n",
       "      <td>No data available</td>\n",
       "      <td>False</td>\n",
       "    </tr>\n",
       "    <tr>\n",
       "      <th>1168</th>\n",
       "      <td>My Brother, My Keeper</td>\n",
       "      <td>Mandolin Orange</td>\n",
       "      <td>track</td>\n",
       "      <td>2kfGWmg7r3dRdTgQXvUqs1</td>\n",
       "      <td>No data available</td>\n",
       "      <td>False</td>\n",
       "    </tr>\n",
       "  </tbody>\n",
       "</table>\n",
       "</div>"
      ],
      "text/plain": [
       "                     track_name      artist_name   type  \\\n",
       "552       America The Beautiful      Ray Charles  track   \n",
       "818   Short Skirt / Long Jacket             Cake  track   \n",
       "937                    Together  Matthew Halsall  track   \n",
       "1077             Midnight Lorry         Dispatch  track   \n",
       "1168      My Brother, My Keeper  Mandolin Orange  track   \n",
       "\n",
       "                          id              error  delete  \n",
       "552   5uPakSfc8x3RpbAGSpEHeB  No data available   False  \n",
       "818   3OOFEF20WqtsUPcRbPY3L7  No data available   False  \n",
       "937   6sJUbzyzNOrAt9dr3pkOPk  No data available   False  \n",
       "1077  0OoODSk0hu4WWmi3yKbRP3  No data available   False  \n",
       "1168  2kfGWmg7r3dRdTgQXvUqs1  No data available   False  "
      ]
     },
     "execution_count": 14,
     "metadata": {},
     "output_type": "execute_result"
    }
   ],
   "source": [
    "fixed_data_df = fixed_data_df[~fixed_data_df[\"delete\"]]\n",
    "\n",
    "stream_history_consolidated_df.loc[fixed_data_df.index, \"type\"] = fixed_data_df[\"type\"]\n",
    "stream_history_consolidated_df.loc[fixed_data_df.index, \"id\"] = fixed_data_df[\"id\"]\n",
    "stream_history_consolidated_df.iloc[fixed_data_df.index].head()"
   ]
  },
  {
   "cell_type": "markdown",
   "metadata": {},
   "source": [
    "Not sure why I added this `error` column, didn't actually end up using it for anything:"
   ]
  },
  {
   "cell_type": "code",
   "execution_count": 15,
   "metadata": {},
   "outputs": [],
   "source": [
    "stream_history_consolidated_df.drop(columns=[\"error\"], axis=1, inplace=True)"
   ]
  },
  {
   "cell_type": "markdown",
   "metadata": {},
   "source": [
    "Finally we can merge the two dataframes and remove the ones that need deleting. Now we have the full streaming history data!"
   ]
  },
  {
   "cell_type": "code",
   "execution_count": 16,
   "metadata": {
    "scrolled": true
   },
   "outputs": [
    {
     "data": {
      "text/html": [
       "<div>\n",
       "<style scoped>\n",
       "    .dataframe tbody tr th:only-of-type {\n",
       "        vertical-align: middle;\n",
       "    }\n",
       "\n",
       "    .dataframe tbody tr th {\n",
       "        vertical-align: top;\n",
       "    }\n",
       "\n",
       "    .dataframe thead th {\n",
       "        text-align: right;\n",
       "    }\n",
       "</style>\n",
       "<table border=\"1\" class=\"dataframe\">\n",
       "  <thead>\n",
       "    <tr style=\"text-align: right;\">\n",
       "      <th></th>\n",
       "      <th>artist_name</th>\n",
       "      <th>track_name</th>\n",
       "      <th>ms_played</th>\n",
       "      <th>date</th>\n",
       "      <th>type</th>\n",
       "      <th>id</th>\n",
       "    </tr>\n",
       "  </thead>\n",
       "  <tbody>\n",
       "    <tr>\n",
       "      <th>0</th>\n",
       "      <td>Ed Sheeran</td>\n",
       "      <td>Perfect Symphony (Ed Sheeran &amp; Andrea Bocelli)</td>\n",
       "      <td>16889</td>\n",
       "      <td>2021-01-01 00:04:00</td>\n",
       "      <td>track</td>\n",
       "      <td>3zl7j5ua8mF4JDYuxrfo01</td>\n",
       "    </tr>\n",
       "    <tr>\n",
       "      <th>1</th>\n",
       "      <td>Morningsiders</td>\n",
       "      <td>Honey Hold Me</td>\n",
       "      <td>181455</td>\n",
       "      <td>2021-01-01 00:04:00</td>\n",
       "      <td>track</td>\n",
       "      <td>3XBDyDl3lwihZ8taFqMsJa</td>\n",
       "    </tr>\n",
       "    <tr>\n",
       "      <th>2</th>\n",
       "      <td>The California Honeydrops</td>\n",
       "      <td>Only Home I've Ever Known</td>\n",
       "      <td>246213</td>\n",
       "      <td>2021-01-01 00:09:00</td>\n",
       "      <td>track</td>\n",
       "      <td>49soGZl5uftZH9E7T20SDm</td>\n",
       "    </tr>\n",
       "    <tr>\n",
       "      <th>3</th>\n",
       "      <td>Doc Robinson</td>\n",
       "      <td>Slip Away</td>\n",
       "      <td>182013</td>\n",
       "      <td>2021-01-01 00:12:00</td>\n",
       "      <td>track</td>\n",
       "      <td>2vwpOGHlOroQYiIByW7qa3</td>\n",
       "    </tr>\n",
       "    <tr>\n",
       "      <th>4</th>\n",
       "      <td>The Get Ahead</td>\n",
       "      <td>Mind is a Mountain</td>\n",
       "      <td>4711</td>\n",
       "      <td>2021-01-01 00:12:00</td>\n",
       "      <td>track</td>\n",
       "      <td>4upb9RfRf0hfW1rTU8bozj</td>\n",
       "    </tr>\n",
       "  </tbody>\n",
       "</table>\n",
       "</div>"
      ],
      "text/plain": [
       "                 artist_name                                      track_name  \\\n",
       "0                 Ed Sheeran  Perfect Symphony (Ed Sheeran & Andrea Bocelli)   \n",
       "1              Morningsiders                                   Honey Hold Me   \n",
       "2  The California Honeydrops                       Only Home I've Ever Known   \n",
       "3               Doc Robinson                                       Slip Away   \n",
       "4              The Get Ahead                              Mind is a Mountain   \n",
       "\n",
       "   ms_played                date   type                      id  \n",
       "0      16889 2021-01-01 00:04:00  track  3zl7j5ua8mF4JDYuxrfo01  \n",
       "1     181455 2021-01-01 00:04:00  track  3XBDyDl3lwihZ8taFqMsJa  \n",
       "2     246213 2021-01-01 00:09:00  track  49soGZl5uftZH9E7T20SDm  \n",
       "3     182013 2021-01-01 00:12:00  track  2vwpOGHlOroQYiIByW7qa3  \n",
       "4       4711 2021-01-01 00:12:00  track  4upb9RfRf0hfW1rTU8bozj  "
      ]
     },
     "execution_count": 16,
     "metadata": {},
     "output_type": "execute_result"
    }
   ],
   "source": [
    "stream_history_df = stream_history_df.merge(stream_history_consolidated_df, on=[\"artist_name\", \"track_name\"])\n",
    "stream_history_df = stream_history_df[~stream_history_df[\"delete\"]].drop(columns=[\"delete\"], axis=1)\n",
    "stream_history_df = stream_history_df.sort_values(by=[\"date\"]).reset_index(drop=True)\n",
    "stream_history_df.head()"
   ]
  },
  {
   "cell_type": "code",
   "execution_count": 17,
   "metadata": {},
   "outputs": [
    {
     "data": {
      "text/html": [
       "<div>\n",
       "<style scoped>\n",
       "    .dataframe tbody tr th:only-of-type {\n",
       "        vertical-align: middle;\n",
       "    }\n",
       "\n",
       "    .dataframe tbody tr th {\n",
       "        vertical-align: top;\n",
       "    }\n",
       "\n",
       "    .dataframe thead th {\n",
       "        text-align: right;\n",
       "    }\n",
       "</style>\n",
       "<table border=\"1\" class=\"dataframe\">\n",
       "  <thead>\n",
       "    <tr style=\"text-align: right;\">\n",
       "      <th></th>\n",
       "      <th>track_name</th>\n",
       "      <th>artist_name</th>\n",
       "      <th>type</th>\n",
       "      <th>id</th>\n",
       "    </tr>\n",
       "  </thead>\n",
       "  <tbody>\n",
       "    <tr>\n",
       "      <th>1</th>\n",
       "      <td>Perfect Symphony (Ed Sheeran &amp; Andrea Bocelli)</td>\n",
       "      <td>Ed Sheeran</td>\n",
       "      <td>track</td>\n",
       "      <td>3zl7j5ua8mF4JDYuxrfo01</td>\n",
       "    </tr>\n",
       "    <tr>\n",
       "      <th>2</th>\n",
       "      <td>Honey Hold Me</td>\n",
       "      <td>Morningsiders</td>\n",
       "      <td>track</td>\n",
       "      <td>3XBDyDl3lwihZ8taFqMsJa</td>\n",
       "    </tr>\n",
       "    <tr>\n",
       "      <th>3</th>\n",
       "      <td>Only Home I've Ever Known</td>\n",
       "      <td>The California Honeydrops</td>\n",
       "      <td>track</td>\n",
       "      <td>49soGZl5uftZH9E7T20SDm</td>\n",
       "    </tr>\n",
       "    <tr>\n",
       "      <th>4</th>\n",
       "      <td>Mind is a Mountain</td>\n",
       "      <td>The Get Ahead</td>\n",
       "      <td>track</td>\n",
       "      <td>4upb9RfRf0hfW1rTU8bozj</td>\n",
       "    </tr>\n",
       "    <tr>\n",
       "      <th>5</th>\n",
       "      <td>Slip Away</td>\n",
       "      <td>Doc Robinson</td>\n",
       "      <td>track</td>\n",
       "      <td>2vwpOGHlOroQYiIByW7qa3</td>\n",
       "    </tr>\n",
       "  </tbody>\n",
       "</table>\n",
       "</div>"
      ],
      "text/plain": [
       "                                       track_name                artist_name  \\\n",
       "1  Perfect Symphony (Ed Sheeran & Andrea Bocelli)                 Ed Sheeran   \n",
       "2                                   Honey Hold Me              Morningsiders   \n",
       "3                       Only Home I've Ever Known  The California Honeydrops   \n",
       "4                              Mind is a Mountain              The Get Ahead   \n",
       "5                                       Slip Away               Doc Robinson   \n",
       "\n",
       "    type                      id  \n",
       "1  track  3zl7j5ua8mF4JDYuxrfo01  \n",
       "2  track  3XBDyDl3lwihZ8taFqMsJa  \n",
       "3  track  49soGZl5uftZH9E7T20SDm  \n",
       "4  track  4upb9RfRf0hfW1rTU8bozj  \n",
       "5  track  2vwpOGHlOroQYiIByW7qa3  "
      ]
     },
     "execution_count": 17,
     "metadata": {},
     "output_type": "execute_result"
    }
   ],
   "source": [
    "stream_history_consolidated_df = stream_history_consolidated_df[~stream_history_consolidated_df[\"delete\"]]\n",
    "stream_history_consolidated_df.drop(columns=[\"delete\"], axis=1, inplace=True)\n",
    "stream_history_consolidated_df.head()"
   ]
  },
  {
   "cell_type": "markdown",
   "metadata": {},
   "source": [
    "Let's also fix the track name and artist name of any duplicates that may have arisen in the fixing missing data process:"
   ]
  },
  {
   "cell_type": "code",
   "execution_count": 18,
   "metadata": {},
   "outputs": [],
   "source": [
    "stream_history_consolidated_df = stream_history_consolidated_df.set_index(\"id\")\n",
    "stream_history_consolidated_df.update(true_duplicate_names)\n",
    "stream_history_consolidated_df = stream_history_consolidated_df.drop_duplicates().reset_index()"
   ]
  },
  {
   "cell_type": "code",
   "execution_count": 19,
   "metadata": {},
   "outputs": [],
   "source": [
    "stream_history_df = stream_history_df.set_index(\"id\")\n",
    "stream_history_df.update(true_duplicate_names)\n",
    "stream_history_df = stream_history_df.reset_index()"
   ]
  },
  {
   "cell_type": "markdown",
   "metadata": {},
   "source": [
    "And let's save this data:"
   ]
  },
  {
   "cell_type": "code",
   "execution_count": 20,
   "metadata": {},
   "outputs": [],
   "source": [
    "if not path.exists(\"data/processed/FullTrackData.csv\"):\n",
    "    stream_history_consolidated_df.to_csv(\"data/processed/FullTrackData.csv\")\n",
    "if not path.exists(\"data/ready/CompleteStreamingHistory.csv\"):\n",
    "    stream_history_df.to_csv(\"data/ready/CompleteStreamingHistory.csv\")"
   ]
  },
  {
   "cell_type": "markdown",
   "metadata": {},
   "source": [
    "## Complete!\n",
    "\n",
    "Now we can move along to the fun stuff... the ANALYSIS\n",
    "\n",
    "For the future: I should probably finish cleaning the Podcast data as well"
   ]
  }
 ],
 "metadata": {
  "kernelspec": {
   "display_name": "Python 3",
   "language": "python",
   "name": "python3"
  },
  "language_info": {
   "codemirror_mode": {
    "name": "ipython",
    "version": 3
   },
   "file_extension": ".py",
   "mimetype": "text/x-python",
   "name": "python",
   "nbconvert_exporter": "python",
   "pygments_lexer": "ipython3",
   "version": "3.7.5"
  }
 },
 "nbformat": 4,
 "nbformat_minor": 4
}
